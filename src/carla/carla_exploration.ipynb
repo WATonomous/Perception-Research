{
 "cells": [
  {
   "attachments": {},
   "cell_type": "markdown",
   "id": "dafd5b89",
   "metadata": {},
   "source": [
    "# CARLA Exploration\n",
    "This is an exploration of all the options that are offered to us out of the box to generate synthetic data."
   ]
  },
  {
   "cell_type": "code",
   "execution_count": 2,
   "id": "7953c499",
   "metadata": {},
   "outputs": [],
   "source": [
    "import carla\n",
    "import random\n",
    "import cv2\n",
    "import skimage.measure as measure\n",
    "\n",
    "#in synchronous mode, sensor data must be added to a queue\n",
    "import queue"
   ]
  },
  {
   "cell_type": "code",
   "execution_count": 3,
   "id": "672117ee",
   "metadata": {},
   "outputs": [],
   "source": [
    "client = carla.Client('carla_server', 2000)\n",
    "client.set_timeout(60.0)"
   ]
  },
  {
   "cell_type": "code",
   "execution_count": 4,
   "id": "9a5070c3",
   "metadata": {},
   "outputs": [
    {
     "data": {
      "text/plain": [
       "['/Game/Carla/Maps/Town01',\n",
       " '/Game/Carla/Maps/Town01_Opt',\n",
       " '/Game/Carla/Maps/Town02',\n",
       " '/Game/Carla/Maps/Town02_Opt',\n",
       " '/Game/Carla/Maps/Town03',\n",
       " '/Game/Carla/Maps/Town03_Opt',\n",
       " '/Game/Carla/Maps/Town04',\n",
       " '/Game/Carla/Maps/Town04_Opt',\n",
       " '/Game/Carla/Maps/Town05',\n",
       " '/Game/Carla/Maps/Town05_Opt',\n",
       " '/Game/Carla/Maps/Town10HD',\n",
       " '/Game/Carla/Maps/Town10HD_Opt']"
      ]
     },
     "execution_count": 4,
     "metadata": {},
     "output_type": "execute_result"
    }
   ],
   "source": [
    "# Let's see what Maps are currently offered to us\n",
    "maps = client.get_available_maps()\n",
    "sorted(maps)"
   ]
  },
  {
   "attachments": {},
   "cell_type": "markdown",
   "id": "e365b680",
   "metadata": {},
   "source": [
    "What is the difference between `Town01` and `Town01_Opt`? The \"Opt\" maps are layered maps, `Town01_Opt` has extra props (roads, sidewalks, traffic lights and traffic signs). Learn more here: https://carla.readthedocs.io/en/latest/core_map/#landmarks\n",
    "\n",
    "![](https://carla.readthedocs.io/en/latest/img/sublevels.gif)"
   ]
  },
  {
   "cell_type": "code",
   "execution_count": 5,
   "id": "6b1dfd2b",
   "metadata": {},
   "outputs": [
    {
     "data": {
      "text/plain": [
       "3"
      ]
     },
     "execution_count": 5,
     "metadata": {},
     "output_type": "execute_result"
    }
   ],
   "source": [
    "world = client.load_world('Town04')\n",
    "settings = world.get_settings()\n",
    "settings.fixed_delta_seconds = 0.05 #must be less than 0.1, or else physics will be noisy\n",
    "#must use fixed delta seconds and synchronous mode for python api controlled sim, or else \n",
    "#camera and sensor data may not match simulation properly and will be noisy \n",
    "settings.synchronous_mode = True \n",
    "world.apply_settings(settings)"
   ]
  },
  {
   "cell_type": "code",
   "execution_count": 4,
   "id": "d00ec873",
   "metadata": {},
   "outputs": [],
   "source": [
    "weather = carla.WeatherParameters(\n",
    "    cloudiness=20.0,\n",
    "    precipitation=20.0,\n",
    "    sun_altitude_angle=110.0)\n",
    "\n",
    "#or use precomputed weathers\n",
    "#weather = carla.WeatherParameters.WetCloudySunset\n",
    "\n",
    "world.set_weather(weather)"
   ]
  },
  {
   "cell_type": "code",
   "execution_count": 5,
   "id": "a61eba92",
   "metadata": {},
   "outputs": [
    {
     "name": "stdout",
     "output_type": "stream",
     "text": [
      "static.prop.creasedbox02\n",
      "  - ActorAttribute(id=size,type=str,value=small(const))\n",
      "  - ActorAttribute(id=role_name,type=str,value=prop)\n",
      "vehicle.bh.crossbike\n",
      "  - ActorAttribute(id=generation,type=int,value=1(const))\n",
      "  - ActorAttribute(id=number_of_wheels,type=int,value=2(const))\n",
      "  - ActorAttribute(id=sticky_control,type=bool,value=True)\n",
      "  - ActorAttribute(id=driver_id,type=int,value=2)\n",
      "  - ActorAttribute(id=object_type,type=str,value=(const))\n",
      "  - ActorAttribute(id=color,type=Color,value=Color(20,78,217,255))\n",
      "  - ActorAttribute(id=role_name,type=str,value=autopilot)\n",
      "vehicle.carlamotors.carlacola\n",
      "  - ActorAttribute(id=generation,type=int,value=1(const))\n",
      "  - ActorAttribute(id=number_of_wheels,type=int,value=4(const))\n",
      "  - ActorAttribute(id=sticky_control,type=bool,value=True)\n",
      "  - ActorAttribute(id=object_type,type=str,value=(const))\n",
      "  - ActorAttribute(id=color,type=Color,value=Color(255,68,0,255))\n",
      "  - ActorAttribute(id=role_name,type=str,value=autopilot)\n",
      "vehicle.bmw.grandtourer\n",
      "  - ActorAttribute(id=generation,type=int,value=1(const))\n",
      "  - ActorAttribute(id=number_of_wheels,type=int,value=4(const))\n",
      "  - ActorAttribute(id=sticky_control,type=bool,value=True)\n",
      "  - ActorAttribute(id=object_type,type=str,value=(const))\n",
      "  - ActorAttribute(id=color,type=Color,value=Color(109,109,109,255))\n",
      "  - ActorAttribute(id=role_name,type=str,value=autopilot)\n",
      "static.prop.chainbarrier\n",
      "  - ActorAttribute(id=size,type=str,value=medium(const))\n",
      "  - ActorAttribute(id=role_name,type=str,value=prop)\n"
     ]
    }
   ],
   "source": [
    "blueprints = world.get_blueprint_library().filter('*')\n",
    "for blueprint in random.sample(list(blueprints), 5):\n",
    "    print(blueprint.id)\n",
    "    for attr in blueprint:\n",
    "       print('  - {}'.format(attr))"
   ]
  },
  {
   "cell_type": "code",
   "execution_count": 6,
   "id": "175dd788",
   "metadata": {},
   "outputs": [],
   "source": [
    "actor_list = []"
   ]
  },
  {
   "cell_type": "code",
   "execution_count": 7,
   "id": "282df70e",
   "metadata": {},
   "outputs": [],
   "source": [
    "blueprint_library = world.get_blueprint_library()\n",
    "bp = random.choice(blueprint_library.filter('vehicle')) # lets choose a vehicle at random\n",
    "\n",
    "# lets choose a random spawn point\n",
    "transform = random.choice(world.get_map().get_spawn_points()) \n",
    "\n",
    "#spawn a vehicle\n",
    "vehicle = world.spawn_actor(bp, transform) \n",
    "actor_list.append(vehicle)\n",
    "\n",
    "vehicle.set_autopilot(True)"
   ]
  },
  {
   "cell_type": "code",
   "execution_count": 8,
   "id": "e5cdb40c",
   "metadata": {},
   "outputs": [],
   "source": [
    "#lets create waypoints for driving the vehicle around automatically\n",
    "m = world.get_map()\n",
    "waypoint = m.get_waypoint(transform.location)\n",
    "\n",
    "#lets add more vehicles\n",
    "for _ in range(0, 200):\n",
    "    transform = random.choice(m.get_spawn_points())\n",
    "\n",
    "    bp_vehicle = random.choice(blueprint_library.filter('vehicle'))\n",
    "\n",
    "    # This time we are using try_spawn_actor. If the spot is already\n",
    "    # occupied by another object, the function will return None.\n",
    "    other_vehicle = world.try_spawn_actor(bp_vehicle, transform)\n",
    "    if other_vehicle is not None:\n",
    "        #print(npc)\n",
    "        other_vehicle.set_autopilot(True)\n",
    "        actor_list.append(other_vehicle)"
   ]
  },
  {
   "cell_type": "code",
   "execution_count": 9,
   "id": "d3a2fa58",
   "metadata": {},
   "outputs": [],
   "source": [
    "# Adding random objects\n",
    "blueprint_library = world.get_blueprint_library()\n",
    "weirdobj_bp = blueprint_library.find('static.prop.fountain')\n",
    "weirdobj_transform = random.choice(world.get_map().get_spawn_points())\n",
    "weirdobj_transform = carla.Transform(carla.Location(x=230, y=195, z=40), carla.Rotation(yaw=180))\n",
    "weird_obj = world.try_spawn_actor(weirdobj_bp, weirdobj_transform)\n",
    "actor_list.append(weird_obj)"
   ]
  }
 ],
 "metadata": {
  "kernelspec": {
   "display_name": "Python 3 (ipykernel)",
   "language": "python",
   "name": "python3"
  },
  "language_info": {
   "codemirror_mode": {
    "name": "ipython",
    "version": 3
   },
   "file_extension": ".py",
   "mimetype": "text/x-python",
   "name": "python",
   "nbconvert_exporter": "python",
   "pygments_lexer": "ipython3",
   "version": "3.7.16"
  },
  "vscode": {
   "interpreter": {
    "hash": "31f2aee4e71d21fbe5cf8b01ff0e069b9275f58929596ceb00d14d90e3e16cd6"
   }
  }
 },
 "nbformat": 4,
 "nbformat_minor": 5
}
